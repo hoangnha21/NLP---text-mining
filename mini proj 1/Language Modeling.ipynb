{
 "cells": [
  {
   "cell_type": "code",
   "execution_count": 1,
   "id": "065215cf",
   "metadata": {},
   "outputs": [
    {
     "name": "stderr",
     "output_type": "stream",
     "text": [
      "[nltk_data] Downloading package brown to\n",
      "[nltk_data]     C:\\Users\\Anusha.jiwani\\AppData\\Roaming\\nltk_data...\n",
      "[nltk_data]   Package brown is already up-to-date!\n"
     ]
    }
   ],
   "source": [
    "#Impoerting the libraries \n",
    "\n",
    "import nltk\n",
    "nltk.download ('brown')\n",
    "from nltk.corpus import brown"
   ]
  },
  {
   "cell_type": "code",
   "execution_count": 2,
   "id": "2ee3de39",
   "metadata": {},
   "outputs": [],
   "source": [
    "# Defining the vocabulary, assigning words to the list after removing punctuation\n",
    "\n",
    "sentence = brown.sents()\n",
    "s_list =[]\n",
    "\n",
    "for i, sent in enumerate (sentence):\n",
    "    s_list.append(sent)\n",
    "\n",
    "for i, line in enumerate (s_list):\n",
    "    s_list [i].append (\"/s\")\n",
    "    \n",
    "for i, line in enumerate (s_list):\n",
    "    x = [\"<s>\"]\n",
    "    s_list[i] = x + s_list[i]"
   ]
  },
  {
   "cell_type": "code",
   "execution_count": 4,
   "id": "c22a9dd2",
   "metadata": {},
   "outputs": [
    {
     "name": "stdout",
     "output_type": "stream",
     "text": [
      "40138\n",
      "5734\n",
      "11468\n"
     ]
    }
   ],
   "source": [
    "#Dividing Traning, Devloping and Testing dataset\n",
    "\n",
    "trn_data = s_list[:int(0.7*len(sentence))]\n",
    "dvlp_data = s_list[int(0.7*len(sentence)):int(0.8*len(sentence))]\n",
    "test_data = s_list[int(0.8*len(sentence)):]\n",
    "\n",
    "print(len(trn_data))\n",
    "print(len(dvlp_data))\n",
    "print(len(test_data))"
   ]
  },
  {
   "cell_type": "code",
   "execution_count": 9,
   "id": "291bf94f",
   "metadata": {},
   "outputs": [],
   "source": [
    "# Listing down the vocabulary size \n",
    "\n",
    "def vocabsize (data):\n",
    "    size = 0\n",
    "    vocab = []\n",
    "    for sent in data:\n",
    "        for word in sent:\n",
    "            if word not in vocab:\n",
    "                vocab.append(word)\n",
    "                size=size+1\n",
    "    return size"
   ]
  },
  {
   "cell_type": "code",
   "execution_count": 11,
   "id": "690b5cfa",
   "metadata": {},
   "outputs": [],
   "source": [
    "trn_data_vocabsize = vocabsize (trn_data)\n",
    "dvlp_data_vocabsize = vocabsize (dvlp_data)\n",
    "test_data_vocabsize = vocabsize (test_data)"
   ]
  },
  {
   "cell_type": "code",
   "execution_count": 12,
   "id": "2d7e91a0",
   "metadata": {},
   "outputs": [
    {
     "name": "stdout",
     "output_type": "stream",
     "text": [
      "49209\n"
     ]
    }
   ],
   "source": [
    "print(trn_data_vocabsize)"
   ]
  },
  {
   "cell_type": "code",
   "execution_count": 14,
   "id": "9d30602c",
   "metadata": {},
   "outputs": [],
   "source": [
    "## Part A ##\n",
    "#Write a code from the scratch that learns unigram and bigram models on the training data as Python dictionaries. \n",
    "# Report the perplexity of your unigram and bigram model on the both training data and test data.\n",
    "\n",
    "import io, sys, math, re\n",
    "from collections import defaultdict\n",
    "import numpy as np\n"
   ]
  },
  {
   "cell_type": "code",
   "execution_count": 16,
   "id": "65ca3a98",
   "metadata": {},
   "outputs": [],
   "source": [
    "#building the n gram model\n",
    "def build_ngram(data, n):\n",
    "    \n",
    "    total_number_words = 0\n",
    "    counts = defaultdict(lambda: defaultdict(lambda: 0.0))\n",
    "    \n",
    "    for sentence in data:\n",
    "        sentence = tuple(sentence)\n",
    "        \n",
    "        for i in range(len(sentence)):\n",
    "            total_number_words +=1\n",
    "            for k in range(n):\n",
    "                if i-k < 0:\n",
    "                    break\n",
    "                counts[sentence[i-k:i]][sentence[i]] +=1\n",
    "                \n",
    "                \n",
    "    proba = defaultdict(lambda: defaultdict(lambda: 0.0))\n",
    "    for context in counts.keys():\n",
    "        denom =0\n",
    "        for w in counts[context].keys():\n",
    "            denom += counts[context][w]\n",
    "        for w in counts[context].keys():\n",
    "            proba[context][w] = counts[context][w]/denom\n",
    "    return proba"
   ]
  },
  {
   "cell_type": "code",
   "execution_count": 17,
   "id": "f85e52a7",
   "metadata": {},
   "outputs": [
    {
     "name": "stdout",
     "output_type": "stream",
     "text": [
      "build ngram model with n =  2\n"
     ]
    }
   ],
   "source": [
    "n = 2\n",
    "print(\"build ngram model with n = \", n)\n",
    "model_unigram = build_ngram(trn_data, n)"
   ]
  },
  {
   "cell_type": "code",
   "execution_count": 19,
   "id": "2c1bff65",
   "metadata": {},
   "outputs": [],
   "source": [
    "def get_prob(model, context, w):\n",
    "#if context in model and w in model[context]:\n",
    "    return model[context][w]"
   ]
  },
  {
   "cell_type": "code",
   "execution_count": 20,
   "id": "40991ce4",
   "metadata": {},
   "outputs": [],
   "source": [
    "def perplexity(model, data, n):\n",
    "    perp, T = 0.0, 0\n",
    "    for sentence in data:\n",
    "        sentence = tuple(sentence)\n",
    "        for i in range(1, len(sentence)):\n",
    "            nc = min(n-1, i)\n",
    "            context = sentence[i-nc:i]\n",
    "            perp += -math.log(get_prob(model, context, sentence[i]))\n",
    "            T += 1\n",
    "    perp = math.exp(perp/T)\n",
    "    return perp"
   ]
  },
  {
   "cell_type": "code",
   "execution_count": 21,
   "id": "9ba7c903",
   "metadata": {},
   "outputs": [
    {
     "name": "stdout",
     "output_type": "stream",
     "text": [
      "Unigram model perplexity: 1208.3057291645355\n"
     ]
    }
   ],
   "source": [
    "print(\"Unigram model perplexity:\", perplexity(model_unigram, trn_data, n=1))"
   ]
  },
  {
   "cell_type": "code",
   "execution_count": 22,
   "id": "bb8d07e0",
   "metadata": {},
   "outputs": [
    {
     "name": "stdout",
     "output_type": "stream",
     "text": [
      "build ngram model with n =  2\n",
      "bigram model perplexity: 64.0904088784753\n"
     ]
    }
   ],
   "source": [
    "#for the bigram model\n",
    "n = 2\n",
    "print(\"build ngram model with n = \", n)\n",
    "model_bigram = build_ngram(trn_data, n)\n",
    "print(\"bigram model perplexity:\", perplexity(model_bigram, trn_data, n=n))"
   ]
  },
  {
   "cell_type": "code",
   "execution_count": 24,
   "id": "7f6514eb",
   "metadata": {},
   "outputs": [],
   "source": [
    "#(b) Implement add-λ smoothing method. With varying λ values, try to draw a similar curve to P2-(d). You should measure the perplexity on the developing data.\n",
    "\n",
    "def build_ngram_smoothing(data, n,k):\n",
    "    total_number_words = 0\n",
    "    counts = defaultdict(lambda: defaultdict(lambda: 0.0))\n",
    "    \n",
    "    for sentence in data:\n",
    "        sentence = tuple(sentence)\n",
    "        for i in range(len(sentence)):\n",
    "            total_number_words +=1\n",
    "            for k in range(n):\n",
    "                if i-k < 0:\n",
    "                    break\n",
    "                counts[sentence[i-k:i]][sentence[i]] +=1\n",
    "                \n",
    "    proba = defaultdict(lambda: defaultdict(lambda: 0.0))\n",
    "    for context in counts.keys():\n",
    "        denom =0\n",
    "        for w in counts[context].keys():\n",
    "            denom += counts[context][w]\n",
    "        for w in counts[context].keys():\n",
    "            proba[context][w] = ((counts[context][w])+k)/(denom+k*trn_data_vocabsize)\n",
    "    return proba , counts #(denom+k*trn_data_vocabsize)"
   ]
  },
  {
   "cell_type": "code",
   "execution_count": 25,
   "id": "f5109cf8",
   "metadata": {},
   "outputs": [],
   "source": [
    "def get_prob_smoothing(model, context, w,k,count_dict):\n",
    "    denom = 0\n",
    "    if context in model and w in model[context]:\n",
    "        return model[context][w]\n",
    "    elif context in model and w not in model[context]:\n",
    "        value=dict(count_dict[context].items())\n",
    "        denom = sum(value.values())\n",
    "        return 1/(denom+trn_data_vocabsize*k)\n",
    "    else:\n",
    "        return 1/(trn_data_vocabsize*k)"
   ]
  },
  {
   "cell_type": "code",
   "execution_count": 27,
   "id": "2ecbb63f",
   "metadata": {},
   "outputs": [],
   "source": [
    "def perplexity_smooth(model, data, n, k,count_dict):\n",
    "    perp, T = 0.0, 0\n",
    "    for sentence in data:\n",
    "        sentence = tuple(sentence)\n",
    "        for i in range(1, len(sentence)):\n",
    "            nc = min(n-1, i)\n",
    "            context = sentence[i-nc:i]\n",
    "            perp += -math.log(get_prob_smoothing(model, context, sentence[i],k,count_dict))\n",
    "            T += 1\n",
    "    perp = math.exp(perp/T)\n",
    "    return perp"
   ]
  },
  {
   "cell_type": "code",
   "execution_count": 29,
   "id": "75056cda",
   "metadata": {},
   "outputs": [
    {
     "name": "stdout",
     "output_type": "stream",
     "text": [
      "build ngram model with n =  2\n",
      "bigram model perplexity: 772.8821599919268\n"
     ]
    }
   ],
   "source": [
    "n = 2\n",
    "print(\"build ngram model with n = \", n)\n",
    "model_bigram_smooth , count = build_ngram_smoothing(trn_data, n,1/1000)\n",
    "print(\"bigram model perplexity:\", perplexity_smooth(model_bigram_smooth, dvlp_data, n=n,k\n",
    "=1/1000, count_dict=count))"
   ]
  },
  {
   "cell_type": "code",
   "execution_count": 30,
   "id": "cc8d6f9a",
   "metadata": {},
   "outputs": [],
   "source": [
    "def best_lambda(n,k,data):\n",
    "    model_smooth , count = build_ngram_smoothing(trn_data, n , k)\n",
    "    return perplexity_smooth(model_smooth, data, n=n,k=k, count_dict=count)"
   ]
  },
  {
   "cell_type": "code",
   "execution_count": 32,
   "id": "d105a167",
   "metadata": {},
   "outputs": [],
   "source": [
    "#find the best lamnda for bigram\n",
    "perp=[]\n",
    "k_list=[]\n",
    "k=1\n",
    "for i in range (50):\n",
    "    k_list.append(k)\n",
    "    perp.append(best_lambda(n=2,k=k,data=dvlp_data))\n",
    "    k=k/10"
   ]
  },
  {
   "cell_type": "code",
   "execution_count": 33,
   "id": "1f69b611",
   "metadata": {},
   "outputs": [
    {
     "name": "stdout",
     "output_type": "stream",
     "text": [
      "minimum lambda 1.0000000000000003e-49\n",
      "minimum perplexity 11.86377361429119\n"
     ]
    },
    {
     "data": {
      "image/png": "[encoded data removed]",
      "text/plain": [
       "<Figure size 432x288 with 1 Axes>"
      ]
     },
     "metadata": {
      "needs_background": "light"
     },
     "output_type": "display_data"
    }
   ],
   "source": [
    "import matplotlib.pyplot as plt\n",
    "plt.plot(perp,k_list)\n",
    "print('minimum lambda',min(k_list))\n",
    "print('minimum perplexity',min(perp))"
   ]
  },
  {
   "cell_type": "code",
   "execution_count": 35,
   "id": "bdc0b09a",
   "metadata": {},
   "outputs": [
    {
     "name": "stdout",
     "output_type": "stream",
     "text": [
      "minimum lambda 1.0000000000000003e-49\n",
      "minimum perplexity 1130.109629009069\n"
     ]
    },
    {
     "data": {
      "image/png": "[encoded data removed]",
      "text/plain": [
       "<Figure size 432x288 with 1 Axes>"
      ]
     },
     "metadata": {
      "needs_background": "light"
     },
     "output_type": "display_data"
    }
   ],
   "source": [
    "#for unigram\n",
    "perp_uni=[]\n",
    "k_list_uni=[]\n",
    "k=1\n",
    "for i in range (50):\n",
    "    k_list_uni.append(k)\n",
    "    perp_uni.append(best_lambda(n=1,k=k,data=dvlp_data))\n",
    "    k=k/10\n",
    "plt.plot(k_list_uni,perp_uni)\n",
    "print('minimum lambda',min(k_list_uni))\n",
    "print('minimum perplexity',min(perp_uni))"
   ]
  },
  {
   "cell_type": "code",
   "execution_count": null,
   "id": "c6a52eb6",
   "metadata": {},
   "outputs": [],
   "source": []
  }
 ],
 "metadata": {
  "kernelspec": {
   "display_name": "Python 3 (ipykernel)",
   "language": "python",
   "name": "python3"
  },
  "language_info": {
   "codemirror_mode": {
    "name": "ipython",
    "version": 3
   },
   "file_extension": ".py",
   "mimetype": "text/x-python",
   "name": "python",
   "nbconvert_exporter": "python",
   "pygments_lexer": "ipython3",
   "version": "3.9.13"
  }
 },
 "nbformat": 4,
 "nbformat_minor": 5
}
