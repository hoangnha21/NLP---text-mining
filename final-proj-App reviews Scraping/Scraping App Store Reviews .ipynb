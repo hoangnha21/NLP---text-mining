{
 "cells": [
  {
   "cell_type": "markdown",
   "metadata": {
    "id": "36-qgXwpfhNI"
   },
   "source": [
    "# Apple Store App Review Organizer!"
   ]
  },
  {
   "cell_type": "code",
   "execution_count": 1,
   "metadata": {
    "id": "512U96ilg8yc"
   },
   "outputs": [
    {
     "name": "stdout",
     "output_type": "stream",
     "text": [
      "Requirement already satisfied: app_store_scraper in /Users/hoangnha218/opt/anaconda3/lib/python3.9/site-packages (0.3.5)\r\n",
      "Requirement already satisfied: requests==2.23.0 in /Users/hoangnha218/opt/anaconda3/lib/python3.9/site-packages (from app_store_scraper) (2.23.0)\r\n",
      "Requirement already satisfied: certifi>=2017.4.17 in /Users/hoangnha218/opt/anaconda3/lib/python3.9/site-packages (from requests==2.23.0->app_store_scraper) (2021.10.8)\r\n",
      "Requirement already satisfied: urllib3!=1.25.0,!=1.25.1,<1.26,>=1.21.1 in /Users/hoangnha218/opt/anaconda3/lib/python3.9/site-packages (from requests==2.23.0->app_store_scraper) (1.25.11)\r\n",
      "Requirement already satisfied: chardet<4,>=3.0.2 in /Users/hoangnha218/opt/anaconda3/lib/python3.9/site-packages (from requests==2.23.0->app_store_scraper) (3.0.4)\r\n",
      "Requirement already satisfied: idna<3,>=2.5 in /Users/hoangnha218/opt/anaconda3/lib/python3.9/site-packages (from requests==2.23.0->app_store_scraper) (2.10)\r\n"
     ]
    }
   ],
   "source": [
    "!pip install app_store_scraper"
   ]
  },
  {
   "cell_type": "code",
   "execution_count": 8,
   "metadata": {
    "id": "hf33CagnaT5k"
   },
   "outputs": [
    {
     "name": "stderr",
     "output_type": "stream",
     "text": [
      "[nltk_data] Downloading package sentiwordnet to\n",
      "[nltk_data]     /Users/hoangnha218/nltk_data...\n",
      "[nltk_data]   Package sentiwordnet is already up-to-date!\n",
      "[nltk_data] Downloading package wordnet to\n",
      "[nltk_data]     /Users/hoangnha218/nltk_data...\n",
      "[nltk_data]   Package wordnet is already up-to-date!\n",
      "[nltk_data] Downloading package omw-1.4 to\n",
      "[nltk_data]     /Users/hoangnha218/nltk_data...\n",
      "[nltk_data]   Package omw-1.4 is already up-to-date!\n",
      "[nltk_data] Downloading package punkt to\n",
      "[nltk_data]     /Users/hoangnha218/nltk_data...\n",
      "[nltk_data]   Package punkt is already up-to-date!\n",
      "[nltk_data] Downloading package averaged_perceptron_tagger to\n",
      "[nltk_data]     /Users/hoangnha218/nltk_data...\n",
      "[nltk_data]   Package averaged_perceptron_tagger is already up-to-\n",
      "[nltk_data]       date!\n"
     ]
    }
   ],
   "source": [
    "from nltk.tokenize import sent_tokenize\n",
    "from nltk.tokenize import word_tokenize\n",
    "import nltk\n",
    "nltk.download('sentiwordnet')\n",
    "nltk.download('wordnet')\n",
    "nltk.download('omw-1.4')\n",
    "nltk.download('punkt')\n",
    "nltk.download('averaged_perceptron_tagger')\n",
    "from nltk.corpus import wordnet as wn\n",
    "from nltk.corpus import sentiwordnet as swn\n",
    "list(swn.senti_synsets('slow'))\n",
    "from nltk.tag import pos_tag\n",
    "from nltk.tokenize import word_tokenize\n",
    "from app_store_scraper import AppStore\n",
    "import pandas as pd\n",
    "import numpy as np\n",
    "import json"
   ]
  },
  {
   "cell_type": "code",
   "execution_count": 9,
   "metadata": {
    "id": "cxWN8Alqdq7U"
   },
   "outputs": [],
   "source": [
    "import string\n",
    "def remove_punctuation(text):\n",
    "    punctuationfree=\"\".join([i for i in text if i not in string.punctuation])\n",
    "    return punctuationfree"
   ]
  },
  {
   "cell_type": "code",
   "execution_count": 14,
   "metadata": {
    "colab": {
     "base_uri": "https://localhost:8080/",
     "height": 35
    },
    "id": "OQAj5G_Uf1ID",
    "outputId": "00568cc8-bb13-41c9-fda5-b9e07350206c"
   },
   "outputs": [
    {
     "data": {
      "text/plain": [
       "'448639966'"
      ]
     },
     "execution_count": 14,
     "metadata": {},
     "output_type": "execute_result"
    }
   ],
   "source": [
    "link = 'https://apps.apple.com/us/app/piccollage-grid-story-maker/id448639966'\n",
    "id = str(link.split('d')[-1])\n",
    " #appname = str(link.split('/')[-2])\n",
    "id\n"
   ]
  },
  {
   "cell_type": "code",
   "execution_count": 15,
   "metadata": {
    "id": "Yu1-dev5bkll"
   },
   "outputs": [],
   "source": [
    "## DEF Function\n",
    "\n",
    "def review_organizer(link):\n",
    "  global pd\n",
    "  #id = str(link[-10:])\n",
    "  id = str(link.split('d')[-1])\n",
    "  appname = str(link.split('/')[-2])\n",
    "  HULA = AppStore(country='us', app_name = appname, app_id = id)\n",
    "  HULA.review(how_many=30)\n",
    "\n",
    "  df = pd.DataFrame(np.array(HULA.reviews),columns=['review'])\n",
    "  df2 = df.join(pd.DataFrame(df.pop('review').tolist()))\n",
    "  df2['clean_msg']= df2['review'].apply(lambda x:remove_punctuation(x))\n",
    "  df2['msg_lower']= df2['clean_msg'].apply(lambda x: x.lower())\n",
    "  df_2 = df2[['msg_lower']]\n",
    "  df_clean = df_2.astype(str).apply(lambda x: x.str.encode('ascii', 'ignore').str.decode('ascii'))\n",
    "  HULA_list = list(df_clean['msg_lower'])\n",
    "  tokenized_sents = [word_tokenize(i) for i in HULA_list]\n",
    "\n",
    "  score = []\n",
    "  for token in tokenized_sents:\n",
    "    after_tagging = nltk.pos_tag(token)\n",
    "    #print (token)\n",
    "    #print (after_tagging)\n",
    "    def penn_to_wn(tag):\n",
    "        \"\"\"\n",
    "        Convert between the PennTreebank tags to simple Wordnet tags\n",
    "        \"\"\"\n",
    "        if tag.startswith('J'):\n",
    "            return wn.ADJ\n",
    "        elif tag.startswith('N'):\n",
    "            return wn.NOUN\n",
    "        elif tag.startswith('R'):\n",
    "            return wn.ADV\n",
    "        elif tag.startswith('V'):\n",
    "            return wn.VERB\n",
    "        return None\n",
    "\n",
    "        \n",
    "    sentiment = 0.0\n",
    "    tokens_count = 0\n",
    "    from nltk.stem import WordNetLemmatizer\n",
    "    lemmatizer = WordNetLemmatizer()\n",
    "    for word, tag in after_tagging:\n",
    "                wn_tag = penn_to_wn(tag)\n",
    "                if wn_tag not in (wn.NOUN, wn.ADJ, wn.ADV):\n",
    "                    continue\n",
    "    \n",
    "                lemma = lemmatizer.lemmatize(word, pos=wn_tag)\n",
    "                if not lemma:\n",
    "                    continue\n",
    "    \n",
    "                synsets = wn.synsets(lemma, pos=wn_tag)\n",
    "                if not synsets:\n",
    "                    continue\n",
    "    \n",
    "                # Take the first sense, the most common\n",
    "                synset = synsets[0]\n",
    "                swn_synset = swn.senti_synset(synset.name())\n",
    "                #print(swn_synset)\n",
    "    \n",
    "                sentiment += swn_synset.pos_score() - swn_synset.neg_score()\n",
    "                tokens_count += 1\n",
    "                #score.extend(list(int(sentiment)))\n",
    "    score.append(sentiment)\n",
    "\n",
    "  pos = len(list(filter(lambda x: x >= 0, score)))/len(score)\n",
    "  neg = len(list(filter(lambda x: x < 0, score)))/len(score)\n",
    "  #p_ratio = len(pos)/len(score)\n",
    "  #n_ratio = len(neg)/len(score)\n",
    "  p_percent = \"{:.2%}\".format(pos)\n",
    "  n_percent = \"{:.2%}\".format(neg)\n",
    "  print( \"\\033[2;37;42m Positive Reviews% in this app is\", p_percent, '  ')\n",
    "  print( \"\\033[2;37;41m Negative Reviews% in this app is\", n_percent, '  ')\n",
    "  print('\\n')\n",
    "\n",
    "\n",
    "  pos_index = [i for i in range(len(score)) if score[i] >=0]\n",
    "  neg_index = [i for i in range(len(score)) if score[i] <0]\n",
    "  pos_index_most = [i for i in range(len(score)) if score[i] == max(score)]\n",
    "  neg_index_most = [i for i in range(len(score)) if score[i] == min(score)]\n",
    "  # top 5\n",
    "  pos_index_5 = sorted(range(len(score)), key=lambda i: score[i])[-5:] \n",
    "  neg_index_5 = sorted(range(len(score)), key=lambda i: score[i], reverse=True)[-5:]\n",
    "  pos_index_5.reverse()\n",
    "  neg_index_5.reverse()\n",
    "\n",
    "  class color:\n",
    "    PURPLE = '\\033[95m'\n",
    "    CYAN = '\\033[96m'\n",
    "    DARKCYAN = '\\033[36m'\n",
    "    BLUE = '\\033[94m'\n",
    "    GREEN = '\\033[92m'\n",
    "    YELLOW = '\\033[93m'\n",
    "    RED = '\\033[91m'\n",
    "    BOLD = '\\033[1m'\n",
    "    UNDERLINE = '\\033[4m'\n",
    "    END = '\\033[0m'\n",
    "  #print(color.BOLD + 'Hello World !' + color.END)\n",
    "\n",
    "  print(color.BOLD + '\\033[2;32;43m Top 5 positive reviews score:'+ color.END)\n",
    "  for i in pos_index_5:\n",
    "    print(score[i])\n",
    "\n",
    "  print( color.BOLD + '\\033[2;31;43m Top 5 negative reviews score:'+ color.END)\n",
    "  for i in neg_index_5:\n",
    "    print(score[i])\n",
    "\n",
    "\n",
    "  print('\\n', color.BOLD +'\\033[2;32;43m Top 5 positive reviews score:'+ color.END)\n",
    "  j = 1\n",
    "  for i in pos_index_5:\n",
    "    print('review', j, ':',df_clean.msg_lower[i])\n",
    "    j+=1\n",
    "\n",
    "\n",
    "  print(color.BOLD +'\\n','\\033[2;31;43m Top 5 negative reviews score:'+ color.END)\n",
    "  j = 1\n",
    "  for i in neg_index_5:\n",
    "    print('review', j, ':', df_clean.msg_lower[i])\n",
    "    j+=1\n",
    "\n",
    "\n",
    "  df_pos = df_clean.iloc[pos_index]\n",
    "  df_neg = df_clean.iloc[neg_index]\n",
    "\n",
    "  \n",
    "  # Python program to generate WordCloud\n",
    "  # importing all necessary modules\n",
    "  from wordcloud import WordCloud, STOPWORDS\n",
    "  import matplotlib.pyplot as plt\n",
    "  import pandas as pd\n",
    "\n",
    "  # Reads 'Youtube04-Eminem.csv' file\n",
    "  #df = pd.read_csv(r\"Youtube04-Eminem.csv\", encoding =\"latin-1\")\n",
    "  df = df_pos\n",
    "\n",
    "  comment_words = ''\n",
    "  stopwords = set(STOPWORDS)\n",
    "  newStopWords = ['app','people','find','event']\n",
    "  # adding list l to set s.\n",
    "  stopwords.update(newStopWords)\n",
    "\n",
    "\n",
    "  # iterate through the csv file\n",
    "  for val in df.msg_lower:\n",
    "    \n",
    "    # typecaste each val to string\n",
    "    val = str(val)\n",
    "\n",
    "    # split the value\n",
    "    tokens = val.split()\n",
    "    \n",
    "    # Converts each token into lowercase\n",
    "    for i in range(len(tokens)):\n",
    "      tokens[i] = tokens[i].lower()\n",
    "    \n",
    "    comment_words += \" \".join(tokens)+\" \"\n",
    "\n",
    "  wordcloud = WordCloud(width = 800, height = 800,\n",
    "          background_color ='white',\n",
    "          stopwords = stopwords,\n",
    "          min_font_size = 10).generate(comment_words)\n",
    "\n",
    "  # plot the WordCloud image\t\t\t\t\t\n",
    "  print('\\n')\n",
    "  print(color.BOLD +'Common Words in Positive Reviews'+ color.END)\n",
    "  \n",
    "  plt.figure(figsize = (8, 8), facecolor = None)\n",
    "  plt.imshow(wordcloud)\n",
    "  plt.axis(\"off\")\n",
    "  plt.tight_layout(pad = 0)\n",
    "  plt.title(\"Common Words in Positive Reviews\")\n",
    "\n",
    "  plt.show()\n",
    "\n",
    "\n",
    "  df = df_neg\n",
    "\n",
    "  comment_words = ''\n",
    "  stopwords = set(STOPWORDS)\n",
    "  newStopWords = ['app','people','find', 'event']\n",
    "  # adding list l to set s.\n",
    "  stopwords.update(newStopWords)\n",
    "\n",
    "\n",
    "  # iterate through the csv file\n",
    "  for val in df.msg_lower:\n",
    "    \n",
    "    # typecaste each val to string\n",
    "    val = str(val)\n",
    "\n",
    "    # split the value\n",
    "    tokens = val.split()\n",
    "    \n",
    "    # Converts each token into lowercase\n",
    "    for i in range(len(tokens)):\n",
    "      tokens[i] = tokens[i].lower()\n",
    "    \n",
    "    comment_words += \" \".join(tokens)+\" \"\n",
    "\n",
    "  wordcloud = WordCloud(width = 800, height = 800,\n",
    "          background_color ='white',\n",
    "          stopwords = stopwords,\n",
    "          min_font_size = 10).generate(comment_words)\n",
    "\n",
    "  # plot the WordCloud image\n",
    "  print('\\n')\n",
    "  print(color.BOLD +'Common Words in Negative Reviews'+ color.END)\n",
    "  \t\t\t\t\n",
    "  plt.figure(figsize = (8, 8), facecolor = None)\n",
    "  plt.imshow(wordcloud)\n",
    "  plt.axis(\"off\")\n",
    "  plt.tight_layout(pad = 0)\n",
    "  plt.title(\"Common Words in Negative Reviews\")\t\n",
    "\n",
    "  plt.show()\n"
   ]
  },
  {
   "cell_type": "markdown",
   "metadata": {
    "id": "Jjai8SAJfMNG"
   },
   "source": [
    "# Imput any app lonk from Apple App store 🌷\n",
    "https://www.apple.com/app-store/"
   ]
  },
  {
   "cell_type": "code",
   "execution_count": 16,
   "metadata": {
    "colab": {
     "base_uri": "https://localhost:8080/",
     "height": 1000
    },
    "id": "Fqvdev5vbvIB",
    "outputId": "8664ba44-a2a5-44e9-8db1-e88f8066b143"
   },
   "outputs": [
    {
     "name": "stdout",
     "output_type": "stream",
     "text": [
      " Apple Store App Link of your choice 🌷 : \n",
      " (click \"Enter\" to see the result ✨) \n",
      "\n",
      "https://apps.apple.com/us/app/piccollage-grid-story-maker/id448639966\n"
     ]
    },
    {
     "name": "stderr",
     "output_type": "stream",
     "text": [
      "2022-12-08 14:21:21,822 [INFO] Base - Initialised: AppStore('us', 'piccollage-grid-story-maker', 448639966)\n",
      "2022-12-08 14:21:21,824 [INFO] Base - Ready to fetch reviews from: https://apps.apple.com/us/app/piccollage-grid-story-maker/id448639966\n",
      "2022-12-08 14:21:22,316 [INFO] Base - [id:448639966] Fetched 40 reviews (40 fetched in total)\n"
     ]
    },
    {
     "name": "stdout",
     "output_type": "stream",
     "text": [
      "\u001b[2;37;42m Positive Reviews% in this app is 70.00%   \n",
      "\u001b[2;37;41m Negative Reviews% in this app is 30.00%   \n",
      "\n",
      "\n",
      "\u001b[1m\u001b[2;32;43m Top 5 positive reviews score:\u001b[0m\n",
      "7.625\n",
      "7.125\n",
      "6.875\n",
      "4.375\n",
      "4.375\n",
      "\u001b[1m\u001b[2;31;43m Top 5 negative reviews score:\u001b[0m\n",
      "-5.375\n",
      "-3.125\n",
      "-2.375\n",
      "-2.25\n",
      "-2.0\n",
      "\n",
      " \u001b[1m\u001b[2;32;43m Top 5 positive reviews score:\u001b[0m\n",
      "review 1 : whenever i want to closely compare a few photos deciding which i like best its much easier to throw them up on this app just to get a better look at them side by side so much easier than flipping back and forth in your photo library \n",
      "\n",
      "plus of course you can make cool layouts of pics and texts if you want and easily post on social medial sites this app allows you to use either your own free form style or opt for their already set up grid options very easy when ive got a lot of pics i wanna share with friends from a vacation etc and im sure they dont really want to bear with me through a whole bunch of them  instead ill make a few interesting photo collages with maybe five to eight pics on each layout that way they can get a good feel of my trip or event quickly theyre happy and im happy win win\n",
      "review 2 : this app is really good and has amazing fonts and layouts and pngs i can make awesome  collages and totally recommend this app but a lot of good stickers and fonts are only allowed to people with vip access also the only outline for the word that you can use is black or white you cant even chose also i would appreciate it if you could add a ombr feature its would be super helpful and people dont have to use ten different apps at once\n",
      "\n",
      "next i have an account on pic collage wishing wonders and pic collage has added a awesome feature where you can remix so like you can remix a icon there is really nothing wrong with the pic collage account feature but only 1 person gets features like every month some collagers really deserve a feature and its like pic collage just picks a random collage thats ok are you guys using robots or something also they have not posted any contest in like a year and i have not been able to join and pic collage contests since i have joined pc community \n",
      "\n",
      "but app is good over all just a few things that they need to fix\n",
      "review 3 : you guys listen up im 12 years old and all i wanted was an easy to use app to make my photos look just a little bit cooler this app is awesome bc not only does it have some amazing features a ton of them are free its so easy to use and i love the designs \n",
      "\n",
      "also i suggest using this app with a collection of other apps for example i use phonto to get a bit more font variety i also use facetune bc it has filters and faceediting which is always nice and of course i use piccollage because its such an easy and fun way to organize the final product\n",
      "\n",
      "a few awesome things this app offers\n",
      "different ways to organize ur photos different borders and beautiful backgrounds to make ur photos pop ways to edit ur photos such as cutting out backgrounds and \n",
      "colorful drawing tools  and even just an option the freestyle and do whatever you want \n",
      "\n",
      "lastly it also offers some inapppurchases they arent expensive and theyre totally worth it i know that everyone here understands that apps dont just run for free these awesome creators need money so they can improve or make more games \n",
      "im not forcing anyone to buy anything im just sayin if you get the chance its worth it\n",
      "\n",
      "i know this was a long review but i tried to keep it interesting please put my review so everyone can see it i want them to hear an honest opinion\n",
      "\n",
      "anyway thanks \n",
      "review 4 : i normally never review apps but i seriously love this app i have been able to create everything from cool pic collages to birthday card greetings with piccollage everything you need to really explore your creative side with pictures  art is here in this app yes you do have to purchase some of the background  sticker packages but come onpaying less than 200 once for anytime   unlimited use is so worth it to me and while none of the background packages are free they do offer a good selection of really cool sticker packages that are free to download  use did i mentionthey also have an online community of other users where you can share your creations  get fresh new ideas  inspirations for your upcoming projects the community is totally interactive  has tons of fun photo  collage challenges if love creating with pics  its something you do a lot of it do yourself a favor  get this app now you wont regret it \n",
      "review 5 : i want more stickers and stuff so make everything free please i know you dont get that then you wouldnt get a profit out of it but i actually considered deleting pic collage because barely anything is free my friends also have been deleting this app for that reason we just dont want to spend money on apps and im sure a lot of others dont either please at least try to make more things free recently there has been a nicer variety of free things but i always see even better stuff that costs money please make more things free and i might just delete this app because i dont use it a lot for that reason i know you probably dont even care about if one person says yeah im going to delete the app but i know a lot of people that have been too even my sister has deleted the app thats the only thing i do love how i can use it anywhere its just boring because theres nothing on there thats all thanks for reading this if you did have a great one  d  also i put those emojis because i put those everywhere i truly love this app just make more things freeeeeeeeeeeeeeeeeeeeeeeeeeeeee\n",
      "\u001b[1m\n",
      " \u001b[2;31;43m Top 5 negative reviews score:\u001b[0m\n",
      "review 1 : im a long time user of piccollage and i love it i have an account and have made some lovely friends which has been incredible i have a few problems though there are ads that pop up when you post something one of them is for a type of birth control this isnt an appropriate ad to be showing it has been the only ad ive seen for months the majority of the pc population is in middle school or high school and that ad is geared towards people who are older than high school age as someone in high school i am uninterested in this ad and it wastes my time and makes me uncomfortable i relate to many other users with these feelings\n",
      "\n",
      "also the most recent update iphone x compatible has rendered the app itself virtually useless to me i dont know if i am alone in this but i cannot view my notifications likes comments remixes or my profile and i cannot post when i try to see my notifications i am directed to the website and i cannot post or see my notifications there this is a big problem for me because im very active in the pc community i dont know if others are affected im assuming they are but i hope this is fixed as soon as possible\n",
      "review 2 : so ive downloaded this app on an old family account so i guess i was grandfathered in as far as getting to not have that stupid watermark on it after youve made a purchase so imagine my surprise when i downloaded this app thinking id have the same thing happen so i waste 199 on vaporwave stickers in hopes that itd remove the watermark and low and behold the watermark is still there why do all these apps have that buy this app for 35 dollars a year for free crap i dont want another subscription i suppose this information was readily available had i taken the usual 3 seconds to scan the about app thing but i didnt im not trying to sound rude but ive been using this app on my old family device for years i even spent money on it too its very upsetting to see uninstalled instantly i used this app to post cutesy insta photos but now i dont even know what im gonna do the only reason i gave this app 2 stars is because it holds nostalgia for me\n",
      "review 3 : i have used pic collage about 10 times in the past 2 months and it has been amazing youre able to shape it how you want it place it where you want it and able to do it for many photos i have used pic collage for my home screen lock screen and school work too its great for people who dont want to pay to make a collage like myself and for people who are willing  to pay without vip access im able to get a lot of backgrounds and wallpapers a lot of other apps charge for making a decent collage and this app is one of the few that you dont have to charge to have the things pic collage provides the only recommendation i have for pic collage is for people to be able to see their collages they have posted on their phone im able to see my posts on my computer but not on my phone im not sure why pic collage has it like this but please get it fixed soon its not much of a problem for me but it something that may be more of a problem for other people overall i recommend this for people that dont like to pay for apps like me and people that are willing to spend real money on apps like this\n",
      "review 4 : please read till the end updated\n",
      "\n",
      " i have a suggestion on what you could add if a person says wow beautiful collage on someones post the author of the collage has to go to the persons account and reply on a random post i know that sometimes people might reply on the same post but i dont think the person who might have asked the question or compliment will always notice they might not even check to see if the author replied you should make a reply system where the person doesnt have to go on a persons acc to reply to a question or compliment they should be able to do that on the same post the compliment or question was given\n",
      "\n",
      "i hope you guys understand what im talking about because it is kind of hard to explain\n",
      "\n",
      "\n",
      "i also have something else to say so there has been a lot of hate going around the number of hate pages have been increasing hate pages are hating on innocent people they have a lot of excuses like their collages are terrible or shehe is so stupid the collagers they are hating on dont deserve this hate no one does some hate pages have people spamming stopthehate and spreadthelove on their collages an account for example is fuzzyg866hatepage \n",
      "people say they want attention of course despite the hate pages there are fan pages which are good \n",
      "\n",
      "\n",
      "anyways thanks for reading this\n",
      "review 5 : 1 it saddened me to see all these people care is about making money now my original long time payment for the paid version is hidden and hard to find all because now they want a paid monthly subscription but i already paid for a life time upgrade of this app long time ego i do not do monthly subscription it is a scam 2 it saddened me to see the development of this app has made it worse it is now so so slow to use on all my different devices it takes for ever to save a collage when you are done it even takes longer for the collage to apear and be ready for use it used to be my favorite app and now it has turned into junk it now takes so long to save a collage something is wrong there must be a bug app is running too slow on all my devices original review everything it does it does it well i wanted a crop feature but not the free hand style of cropping used to make cheese collages i would like for the developers to stop adding good features like the text shadow and the removing the those same features that we love every new version should add more features not delete features regardless of all my complains i love the app and i use it more then any of my other image editing apps on my phone recommended\n"
     ]
    },
    {
     "ename": "ModuleNotFoundError",
     "evalue": "No module named 'wordcloud'",
     "output_type": "error",
     "traceback": [
      "\u001b[0;31m---------------------------------------------------------------------------\u001b[0m",
      "\u001b[0;31mModuleNotFoundError\u001b[0m                       Traceback (most recent call last)",
      "Input \u001b[0;32mIn [16]\u001b[0m, in \u001b[0;36m<cell line: 6>\u001b[0;34m()\u001b[0m\n\u001b[1;32m      4\u001b[0m \u001b[38;5;28mprint\u001b[39m(\u001b[38;5;124m'\u001b[39m\u001b[38;5;124m Apple Store App Link of your choice 🌷 :\u001b[39m\u001b[38;5;124m'\u001b[39m, \u001b[38;5;124m'\u001b[39m\u001b[38;5;130;01m\\n\u001b[39;00m\u001b[38;5;124m'\u001b[39m, \u001b[38;5;124m'\u001b[39m\u001b[38;5;124m(click \u001b[39m\u001b[38;5;124m\"\u001b[39m\u001b[38;5;124mEnter\u001b[39m\u001b[38;5;124m\"\u001b[39m\u001b[38;5;124m to see the result ✨)\u001b[39m\u001b[38;5;124m'\u001b[39m, \u001b[38;5;124m'\u001b[39m\u001b[38;5;130;01m\\n\u001b[39;00m\u001b[38;5;124m'\u001b[39m)\n\u001b[1;32m      5\u001b[0m link \u001b[38;5;241m=\u001b[39m \u001b[38;5;28mstr\u001b[39m(\u001b[38;5;28minput\u001b[39m())\n\u001b[0;32m----> 6\u001b[0m \u001b[43mreview_organizer\u001b[49m\u001b[43m(\u001b[49m\u001b[43mlink\u001b[49m\u001b[43m)\u001b[49m\n",
      "Input \u001b[0;32mIn [15]\u001b[0m, in \u001b[0;36mreview_organizer\u001b[0;34m(link)\u001b[0m\n\u001b[1;32m    125\u001b[0m df_neg \u001b[38;5;241m=\u001b[39m df_clean\u001b[38;5;241m.\u001b[39miloc[neg_index]\n\u001b[1;32m    128\u001b[0m \u001b[38;5;66;03m# Python program to generate WordCloud\u001b[39;00m\n\u001b[1;32m    129\u001b[0m \u001b[38;5;66;03m# importing all necessary modules\u001b[39;00m\n\u001b[0;32m--> 130\u001b[0m \u001b[38;5;28;01mfrom\u001b[39;00m \u001b[38;5;21;01mwordcloud\u001b[39;00m \u001b[38;5;28;01mimport\u001b[39;00m WordCloud, STOPWORDS\n\u001b[1;32m    131\u001b[0m \u001b[38;5;28;01mimport\u001b[39;00m \u001b[38;5;21;01mmatplotlib\u001b[39;00m\u001b[38;5;21;01m.\u001b[39;00m\u001b[38;5;21;01mpyplot\u001b[39;00m \u001b[38;5;28;01mas\u001b[39;00m \u001b[38;5;21;01mplt\u001b[39;00m\n\u001b[1;32m    132\u001b[0m \u001b[38;5;28;01mimport\u001b[39;00m \u001b[38;5;21;01mpandas\u001b[39;00m \u001b[38;5;28;01mas\u001b[39;00m \u001b[38;5;21;01mpd\u001b[39;00m\n",
      "\u001b[0;31mModuleNotFoundError\u001b[0m: No module named 'wordcloud'"
     ]
    }
   ],
   "source": [
    "# https://apps.apple.com/us/app/hula-find-events-make-friends/\n",
    "# https://apps.apple.com/us/app/piccollage-grid-story-maker/id448639966\n",
    "\n",
    "print(' Apple Store App Link of your choice 🌷 :', '\\n', '(click \"Enter\" to see the result ✨)', '\\n')\n",
    "link = str(input())\n",
    "review_organizer(link)"
   ]
  },
  {
   "cell_type": "code",
   "execution_count": null,
   "metadata": {},
   "outputs": [],
   "source": []
  }
 ],
 "metadata": {
  "colab": {
   "collapsed_sections": [],
   "provenance": []
  },
  "kernelspec": {
   "display_name": "Python 3 (ipykernel)",
   "language": "python",
   "name": "python3"
  },
  "language_info": {
   "codemirror_mode": {
    "name": "ipython",
    "version": 3
   },
   "file_extension": ".py",
   "mimetype": "text/x-python",
   "name": "python",
   "nbconvert_exporter": "python",
   "pygments_lexer": "ipython3",
   "version": "3.9.13"
  }
 },
 "nbformat": 4,
 "nbformat_minor": 1
}
